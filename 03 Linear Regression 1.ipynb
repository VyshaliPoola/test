{
 "cells": [
  {
   "cell_type": "code",
   "execution_count": null,
   "id": "cff61e2a-fa3c-4d5b-aca7-66c4677aff56",
   "metadata": {},
   "outputs": [],
   "source": [
    "# ==================================================\n",
    "# ============= 03 Linear Regression 1 =============\n",
    "# ==================================================\n",
    "\n",
    "# Load the necessary functionality packages\n",
    "import pandas as pd\n",
    "import numpy as np\n",
    "from sklearn.linear_model import LinearRegression\n",
    "from sklearn.model_selection import train_test_split\n",
    "import statsmodels.api as sm\n",
    "\n",
    "# Import data\n",
    "ToyotaCorolla_df = pd.read_csv('C:\\\\Users\\\\hgaop\\\\Documents\\\\hgao2_OU\\\\Courses\\\\MIS-4560_5560 Data analytics\\\\Textbook\\\\Python_R-dmba-datasets\\\\dmba\\\\ToyotaCorolla.csv')  \n",
    "# REMEMBER to check and update the file path every time you import data\n",
    "# NOTE: use '\\\\' to replace '\\' in the file path"
   ]
  },
  {
   "cell_type": "code",
   "execution_count": null,
   "id": "18432053-22fa-4bc0-98e9-060fd09921a5",
   "metadata": {},
   "outputs": [],
   "source": [
    "# Explore the Data Frame (the basics)\n",
    "\n",
    "## Check the dimension of the data frame\n",
    "ToyotaCorolla_df.shape"
   ]
  },
  {
   "cell_type": "code",
   "execution_count": null,
   "id": "12a791ee-77a1-4ecf-af80-16e12ca6bd0d",
   "metadata": {},
   "outputs": [],
   "source": [
    "## Look at the first 5 rows of the data frame\n",
    "ToyotaCorolla_df.head()"
   ]
  },
  {
   "cell_type": "code",
   "execution_count": null,
   "id": "4d9f69dc-619e-4abd-85c7-f191daa28566",
   "metadata": {},
   "outputs": [],
   "source": [
    "## Print the column names\n",
    "print(ToyotaCorolla_df.columns.tolist())"
   ]
  },
  {
   "cell_type": "code",
   "execution_count": null,
   "id": "2c84803f-b61f-496b-9f60-06b8a29f78f3",
   "metadata": {},
   "outputs": [],
   "source": [
    "## Check the unique values in the 'Fuel_Type' column\n",
    "unique_fuel_types = ToyotaCorolla_df['Fuel_Type'].unique()\n",
    "\n",
    "## Print the unique values\n",
    "print(unique_fuel_types)"
   ]
  },
  {
   "cell_type": "code",
   "execution_count": null,
   "id": "a21e654b-4fda-45e1-b19b-06691f16c10d",
   "metadata": {},
   "outputs": [],
   "source": [
    "## Check for missing values in the ToyotaCorolla_df DataFrame\n",
    "missing_values = ToyotaCorolla_df.isnull().sum()\n",
    "\n",
    "## Print the count of missing values for each column\n",
    "print(missing_values)"
   ]
  },
  {
   "cell_type": "code",
   "execution_count": null,
   "id": "09c5b891-2bbd-4bc0-8eb8-467634863e89",
   "metadata": {},
   "outputs": [],
   "source": [
    "# Fit a Linear Regression Model to the Training Data\n",
    "\n",
    "## Reduce the data frame to include the first 1000 rows and columns of interest (define the predictors and outcome variables)\n",
    "ToyotaCorolla_df = ToyotaCorolla_df.iloc[0:1000]\n",
    "predictors = ['Age_08_04', 'KM', 'Fuel_Type', 'HP', 'Met_Color', 'Automatic', 'CC', 'Doors', 'Quarterly_Tax', 'Weight']\n",
    "outcome = 'Price'"
   ]
  },
  {
   "cell_type": "code",
   "execution_count": null,
   "id": "ed24258b-8012-41ec-9afd-7d0f0e6f9f6e",
   "metadata": {},
   "outputs": [],
   "source": [
    "## Define the predictor and outcome variables\n",
    "X = pd.get_dummies(ToyotaCorolla_df[predictors], drop_first=False) # Convert non-numerical categorical variables to numerical dummies\n",
    "X = X.drop(columns=['Fuel_Type_CNG'], errors='ignore') # Drop column 'LNG' to avoid the multicolinearity issue\n",
    "y = ToyotaCorolla_df[outcome]"
   ]
  },
  {
   "cell_type": "code",
   "execution_count": null,
   "id": "31f6cf31-aa93-4487-9e1e-b16e7b0756f0",
   "metadata": {},
   "outputs": [],
   "source": [
    "## Partition Data into Training and Validation Data Frames with a 60:40 Split\n",
    "np.random.seed(1)  # Set seed for reproducibility\n",
    "train_X, valid_X, train_y, valid_y = train_test_split(X, y, test_size=0.4, random_state=1) # Put 40% data in the validation data \n",
    "train_X = train_X.apply(lambda x: x.astype(int) if x.dtype == 'bool' else x) # convert boolean variables to numeric variables.\n",
    "valid_X = valid_X.apply(lambda x: x.astype(int) if x.dtype == 'bool' else x) # convert boolean variables to numeric variables."
   ]
  },
  {
   "cell_type": "code",
   "execution_count": null,
   "id": "8afb9c02-6ce7-4aa4-8074-17467757d762",
   "metadata": {
    "scrolled": true
   },
   "outputs": [],
   "source": [
    "## Fit a Linear Regression Model using the LinearRegression function from the sklearn.linear_model library\n",
    "ToyotaCorolla_lm = LinearRegression()\n",
    "ToyotaCorolla_lm.fit(train_X, train_y)\n",
    "\n",
    "## Print the Model Summary\n",
    "\n",
    "### Add constant (intercept) to the features\n",
    "train_X_intercept = sm.add_constant(train_X)\n",
    "\n",
    "### Fit the linear model with the OLS function from the statsmodels library\n",
    "model = sm.OLS(train_y, train_X_intercept).fit()\n",
    "\n",
    "### Print the summary\n",
    "print(model.summary())\n",
    "\n",
    "### Interpret the linear model for your audience."
   ]
  },
  {
   "cell_type": "code",
   "execution_count": null,
   "id": "73acb794-6632-495c-92c7-852f0fdc256e",
   "metadata": {},
   "outputs": [],
   "source": [
    "### If you just need the intercept and coefficients, you may first print intercept\n",
    "# print(\"Intercept:\", ToyotaCorolla_lm.intercept_)\n",
    "\n",
    "# Then, print coefficients for each feature\n",
    "# print(\"\\nCoefficients:\")\n",
    "# for feature, coef in zip(train_X.columns, ToyotaCorolla_lm.coef_):\n",
    "#    print(f\"{feature}: {coef}\")"
   ]
  },
  {
   "cell_type": "code",
   "execution_count": null,
   "id": "902edc7a-d5ef-42bc-aba4-603a41169f5e",
   "metadata": {},
   "outputs": [],
   "source": [
    "# Validate the linear model\n",
    "\n",
    "## Use predict() to make predictions on a new data frame\n",
    "ToyotaCorolla_lm_pred = ToyotaCorolla_lm.predict(valid_X)\n",
    "ToyotaCorolla_result = pd.DataFrame({'Predicted': ToyotaCorolla_lm_pred, \n",
    "    'Actual': valid_y, 'Residual': valid_y - ToyotaCorolla_lm_pred})\n",
    "print(ToyotaCorolla_result.head(20))\n"
   ]
  },
  {
   "cell_type": "code",
   "execution_count": null,
   "id": "58f752c8-7716-47c2-a9dc-6d46553b687a",
   "metadata": {},
   "outputs": [],
   "source": [
    "# Residual Analysis\n",
    "## Summary statistics of the residuals\n",
    "### Create a percent_error column to calculate the error rate\n",
    "ToyotaCorolla_result['Absolute_Residual'] = ToyotaCorolla_result['Residual'].abs()\n",
    "ToyotaCorolla_result['percent_error'] = (ToyotaCorolla_result['Absolute_Residual'] / ToyotaCorolla_result['Actual'] * 100)\n",
    "residual_stats = ToyotaCorolla_result[['Residual', 'percent_error']].describe().round(3) # Run the basic descriptive statistics\n",
    "print(residual_stats)"
   ]
  },
  {
   "cell_type": "code",
   "execution_count": null,
   "id": "ca17a799-389f-49de-b6f8-d5a79a8b0178",
   "metadata": {},
   "outputs": [],
   "source": [
    "## Plot the residuals\n",
    "### Import the necessary functionality packages\n",
    "import matplotlib.pyplot as plt\n",
    "import seaborn as sns\n",
    "\n",
    "### Box plot of residuals\n",
    "plt.figure(figsize=(3, 4))\n",
    "sns.boxplot(y=ToyotaCorolla_result['Residual'])\n",
    "plt.title('Box Plot of Residuals')\n",
    "plt.ylabel('Residuals')\n",
    "plt.show()"
   ]
  },
  {
   "cell_type": "code",
   "execution_count": null,
   "id": "447974a7-cc37-4d72-bb47-525d08080545",
   "metadata": {
    "scrolled": true
   },
   "outputs": [],
   "source": [
    "### Histogram of residuals\n",
    "plt.figure(figsize=(4, 3))\n",
    "sns.histplot(ToyotaCorolla_result['Residual'], kde=True, bins=20)\n",
    "plt.title('Histogram of Residuals')\n",
    "plt.xlabel('Residuals')\n",
    "plt.ylabel('Frequency')\n",
    "plt.show()"
   ]
  },
  {
   "cell_type": "code",
   "execution_count": null,
   "id": "9ac7550d-0b20-4ff5-b5df-6bdf2820c5eb",
   "metadata": {},
   "outputs": [],
   "source": [
    "### Scatter plot of predicted vs residuals to check for patterns\n",
    "plt.figure(figsize=(4, 3))\n",
    "plt.scatter(ToyotaCorolla_result['Predicted'], ToyotaCorolla_result['Residual'], alpha=0.6, color='blue')\n",
    "plt.title('Scatter Plot of Predicted vs Residuals')\n",
    "plt.xlabel('Predicted Values')\n",
    "plt.ylabel('Residuals')\n",
    "plt.axhline(y=0, color='red', linestyle='--')  # Add horizontal line at y=0 for reference\n",
    "plt.show()"
   ]
  },
  {
   "cell_type": "code",
   "execution_count": null,
   "id": "e71c73e8-169e-4911-93e5-081c1160d9f1",
   "metadata": {},
   "outputs": [],
   "source": []
  }
 ],
 "metadata": {
  "kernelspec": {
   "display_name": "Python [conda env:base] *",
   "language": "python",
   "name": "conda-base-py"
  },
  "language_info": {
   "codemirror_mode": {
    "name": "ipython",
    "version": 3
   },
   "file_extension": ".py",
   "mimetype": "text/x-python",
   "name": "python",
   "nbconvert_exporter": "python",
   "pygments_lexer": "ipython3",
   "version": "3.12.7"
  }
 },
 "nbformat": 4,
 "nbformat_minor": 5
}
